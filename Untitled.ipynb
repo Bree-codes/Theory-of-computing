{
 "cells": [
  {
   "cell_type": "code",
   "execution_count": 5,
   "id": "9efa3f09-13ee-4e55-8142-72322352b2ff",
   "metadata": {},
   "outputs": [
    {
     "name": "stdout",
     "output_type": "stream",
     "text": [
      "True\n"
     ]
    }
   ],
   "source": [
    "\n",
    "thisset = {\"apple\", \"banana\", \"cherry\"}  # find whether an element is in a set\n",
    "\n",
    "print( \"apple\" in thisset)"
   ]
  },
  {
   "cell_type": "code",
   "execution_count": 14,
   "id": "f8df78ac-f9d5-471a-b790-3a4387d00f2e",
   "metadata": {},
   "outputs": [
    {
     "name": "stdout",
     "output_type": "stream",
     "text": [
      "{'peas', 'banana', 'cherry', 'apple'}\n",
      "peas\n",
      "banana\n",
      "cherry\n",
      "apple\n"
     ]
    }
   ],
   "source": [
    "\n",
    "thisset = {\"apple\", \"banana\", \"cherry\", \"peas\"} # printing elements one by one in a set\n",
    "\n",
    "print(thisset)\n",
    "\n",
    "for x in thisset:\n",
    "  print(x) "
   ]
  },
  {
   "cell_type": "code",
   "execution_count": 11,
   "id": "e643fe03-276d-414c-a41f-ebefd77dd183",
   "metadata": {},
   "outputs": [
    {
     "name": "stdout",
     "output_type": "stream",
     "text": [
      "{'orange', 'banana', 'cherry', 'apple'}\n"
     ]
    }
   ],
   "source": [
    "thisset = {\"apple\", \"banana\", \"cherry\"} # adding single element in a set\n",
    "\n",
    "thisset.add(\"orange\")\n",
    "\n",
    "print(thisset) "
   ]
  },
  {
   "cell_type": "code",
   "execution_count": 12,
   "id": "40f75cbd-99d5-4d2e-9338-49312567bdfd",
   "metadata": {},
   "outputs": [
    {
     "name": "stdout",
     "output_type": "stream",
     "text": [
      "{'banana', 'papaya', 'apple', 'pineapple', 'mango', 'cherry'}\n"
     ]
    }
   ],
   "source": [
    "\n",
    "thisset = {\"apple\", \"banana\", \"cherry\"}  # adding element or merging sets\n",
    "tropical = {\"pineapple\", \"mango\", \"papaya\"}\n",
    "\n",
    "thisset.update(tropical)\n",
    "\n",
    "print(thisset) "
   ]
  },
  {
   "cell_type": "code",
   "execution_count": 15,
   "id": "8e418aaf-93fa-45b7-a74f-7f54a93d8bcb",
   "metadata": {},
   "outputs": [
    {
     "name": "stdout",
     "output_type": "stream",
     "text": [
      "{'cherry', 'apple'}\n"
     ]
    }
   ],
   "source": [
    "\n",
    "thisset = {\"apple\", \"banana\", \"cherry\"} # removing elements from sets\n",
    "\n",
    "thisset.remove(\"banana\")\n",
    "\n",
    "print(thisset) "
   ]
  },
  {
   "cell_type": "code",
   "execution_count": 16,
   "id": "422765aa-834d-43b7-a256-25923f19cb1f",
   "metadata": {},
   "outputs": [
    {
     "name": "stdout",
     "output_type": "stream",
     "text": [
      "{1, 2, 3, 'b', 'a', 'c'}\n"
     ]
    }
   ],
   "source": [
    "set1 = {\"a\", \"b\" , \"c\"}\n",
    "set2 = {1, 2, 3}\n",
    "\n",
    "set3 = set1.union(set2)\n",
    "print(set3) "
   ]
  },
  {
   "cell_type": "code",
   "execution_count": 17,
   "id": "02ae5dff-1a96-43c8-9c11-1ceeb0e9043a",
   "metadata": {},
   "outputs": [
    {
     "name": "stdout",
     "output_type": "stream",
     "text": [
      "{'apple'}\n"
     ]
    }
   ],
   "source": [
    "# intersection of unions\n",
    "x = {\"apple\", \"banana\", \"cherry\"}\n",
    "y = {\"google\", \"microsoft\", \"apple\"}\n",
    "\n",
    "x.intersection_update(y)\n",
    "\n",
    "print(x) "
   ]
  },
  {
   "cell_type": "code",
   "execution_count": 18,
   "id": "8b3777dc-6cab-42c9-abd8-d302fd283827",
   "metadata": {},
   "outputs": [
    {
     "name": "stdout",
     "output_type": "stream",
     "text": [
      "{'banana', 'cherry', 'microsoft', 'google'}\n"
     ]
    }
   ],
   "source": [
    "# symentric in set\n",
    "x = {\"apple\", \"banana\", \"cherry\"}\n",
    "y = {\"google\", \"microsoft\", \"apple\"}\n",
    "\n",
    "x.symmetric_difference_update(y)\n",
    "\n",
    "print(x) "
   ]
  },
  {
   "cell_type": "code",
   "execution_count": 21,
   "id": "ff6f7310-4035-4ab1-ad16-7bb27bb405f1",
   "metadata": {},
   "outputs": [
    {
     "name": "stdout",
     "output_type": "stream",
     "text": [
      "('apple', 'banana', 'cherry')\n"
     ]
    }
   ],
   "source": [
    "thistuple = tuple((\"apple\", \"banana\", \"cherry\")) # note the double round-brackets to make a tuple\n",
    "\n",
    "print(thistuple)\n"
   ]
  },
  {
   "cell_type": "code",
   "execution_count": 22,
   "id": "f941ca78-761a-4034-9734-5bf472981d1e",
   "metadata": {},
   "outputs": [
    {
     "name": "stdout",
     "output_type": "stream",
     "text": [
      "('cherry', 'orange', 'kiwi')\n"
     ]
    }
   ],
   "source": [
    "thistuple = (\"apple\", \"banana\", \"cherry\", \"orange\", \"kiwi\", \"melon\", \"mango\")\n",
    "print(thistuple[2:5])"
   ]
  },
  {
   "cell_type": "code",
   "execution_count": 28,
   "id": "6a06a39a-a7d5-420a-8f5d-ef51cb2c8546",
   "metadata": {},
   "outputs": [
    {
     "name": "stdout",
     "output_type": "stream",
     "text": [
      "('apple', 'banana', 'cherry', 'orange')\n"
     ]
    }
   ],
   "source": [
    "\n",
    "thistuple = ((\"apple\", \"banana\", \"cherry\")) # adding elements into a tuple\n",
    "y = (\"orange\",)\n",
    "thistuple += y\n",
    "\n",
    "print(thistuple)"
   ]
  },
  {
   "cell_type": "code",
   "execution_count": 29,
   "id": "240518c7-5347-47b7-bdb0-256ee46f7691",
   "metadata": {},
   "outputs": [
    {
     "name": "stdout",
     "output_type": "stream",
     "text": [
      "('a', 'b', 'c', 1, 2, 3)\n"
     ]
    }
   ],
   "source": [
    "\n",
    "tuple1 = (\"a\", \"b\" , \"c\") # joining two tuples\n",
    "tuple2 = (1, 2, 3)\n",
    "\n",
    "tuple3 = tuple1 + tuple2\n",
    "print(tuple3) \n"
   ]
  },
  {
   "cell_type": "code",
   "execution_count": 30,
   "id": "87a8e922-f0c4-45b7-9bfd-52697eaab5f0",
   "metadata": {},
   "outputs": [
    {
     "name": "stdout",
     "output_type": "stream",
     "text": [
      "The original list : [1, 4, 6, 7]\n",
      "The original tuple : (1, 3)\n"
     ]
    }
   ],
   "source": [
    "# Python3 code to demonstrate working of\n",
    "# Construct Cartesian Product Tuple list\n",
    "# using list comprehension\n",
    " \n",
    "# initialize list and tuple\n",
    "test_list = [1, 4, 6, 7]\n",
    "test_tup = (1, 3)\n",
    " \n",
    "# printing original list and tuple\n",
    "print(\"The original list : \" + str(test_list))\n",
    "print(\"The original tuple : \" + str(test_tup))\n",
    " "
   ]
  },
  {
   "cell_type": "code",
   "execution_count": 35,
   "id": "73de1ee1-d397-47ff-b319-4b276b48d706",
   "metadata": {},
   "outputs": [
    {
     "name": "stdout",
     "output_type": "stream",
     "text": [
      "[(1, 1), (1, 4), (1, 6), (1, 7), (3, 1), (3, 4), (3, 6), (3, 7)]\n",
      "The Cartesian Product is : [(1, 1), (1, 4), (1, 6), (1, 7), (3, 1), (3, 4), (3, 6), (3, 7)]\n"
     ]
    }
   ],
   "source": [
    "# Construct Cartesian Product Tuple list\n",
    "# using list comprehension\n",
    "res = [(a,b) for a in test_tup for b in test_list]\n",
    "\n",
    "print(res)\n",
    "# printing result\n",
    "print(\"The Cartesian Product is : \" + str(res))\n",
    "\n",
    "\n",
    "# In[21]:\n"
   ]
  },
  {
   "cell_type": "code",
   "execution_count": null,
   "id": "c9ec938e-04f6-4f1e-9ee0-34323ccc0428",
   "metadata": {},
   "outputs": [],
   "source": [
    "import itertools # permutation\n",
    " \n",
    "s = \"ABCDEFGFHIJKL\"\n",
    "\n",
    "perm_set = itertools.permutations(s)\n",
    "for val in perm_set:\n",
    "    print(val)\n",
    "\n",
    "\n",
    "# In[22]:"
   ]
  },
  {
   "cell_type": "code",
   "execution_count": null,
   "id": "d8f2d168-b93c-4270-b45c-bc36374a02e3",
   "metadata": {},
   "outputs": [],
   "source": [
    "\n",
    "x = {\"apple\", \"banana\", \"cherry\"}  # demostraing disjoint\n",
    "y = {\"google\", \"microsoft\", \"facebook\"}\n",
    "\n",
    "z = x.isdisjoint(y)\n",
    "\n",
    "print(z) "
   ]
  },
  {
   "cell_type": "code",
   "execution_count": null,
   "id": "40eb4a5f-1c57-4314-892c-0696f231fc96",
   "metadata": {},
   "outputs": [],
   "source": []
  }
 ],
 "metadata": {
  "kernelspec": {
   "display_name": "Python 3 (ipykernel)",
   "language": "python",
   "name": "python3"
  },
  "language_info": {
   "codemirror_mode": {
    "name": "ipython",
    "version": 3
   },
   "file_extension": ".py",
   "mimetype": "text/x-python",
   "name": "python",
   "nbconvert_exporter": "python",
   "pygments_lexer": "ipython3",
   "version": "3.11.2"
  }
 },
 "nbformat": 4,
 "nbformat_minor": 5
}
